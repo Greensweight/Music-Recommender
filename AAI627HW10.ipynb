{
  "nbformat": 4,
  "nbformat_minor": 0,
  "metadata": {
    "colab": {
      "provenance": []
    },
    "kernelspec": {
      "name": "python3",
      "display_name": "Python 3"
    },
    "language_info": {
      "name": "python"
    }
  },
  "cells": [
    {
      "cell_type": "code",
      "execution_count": 1,
      "metadata": {
        "id": "nIr5rZA6uDnN",
        "colab": {
          "base_uri": "https://localhost:8080/"
        },
        "outputId": "4069754b-c69b-4cc5-e85e-69b15c71f03e"
      },
      "outputs": [
        {
          "output_type": "stream",
          "name": "stdout",
          "text": [
            "Requirement already satisfied: kaggle in /usr/local/lib/python3.10/dist-packages (1.5.16)\n",
            "Requirement already satisfied: six>=1.10 in /usr/local/lib/python3.10/dist-packages (from kaggle) (1.16.0)\n",
            "Requirement already satisfied: certifi in /usr/local/lib/python3.10/dist-packages (from kaggle) (2024.2.2)\n",
            "Requirement already satisfied: python-dateutil in /usr/local/lib/python3.10/dist-packages (from kaggle) (2.8.2)\n",
            "Requirement already satisfied: requests in /usr/local/lib/python3.10/dist-packages (from kaggle) (2.31.0)\n",
            "Requirement already satisfied: tqdm in /usr/local/lib/python3.10/dist-packages (from kaggle) (4.66.2)\n",
            "Requirement already satisfied: python-slugify in /usr/local/lib/python3.10/dist-packages (from kaggle) (8.0.4)\n",
            "Requirement already satisfied: urllib3 in /usr/local/lib/python3.10/dist-packages (from kaggle) (2.0.7)\n",
            "Requirement already satisfied: bleach in /usr/local/lib/python3.10/dist-packages (from kaggle) (6.1.0)\n",
            "Requirement already satisfied: webencodings in /usr/local/lib/python3.10/dist-packages (from bleach->kaggle) (0.5.1)\n",
            "Requirement already satisfied: text-unidecode>=1.3 in /usr/local/lib/python3.10/dist-packages (from python-slugify->kaggle) (1.3)\n",
            "Requirement already satisfied: charset-normalizer<4,>=2 in /usr/local/lib/python3.10/dist-packages (from requests->kaggle) (3.3.2)\n",
            "Requirement already satisfied: idna<4,>=2.5 in /usr/local/lib/python3.10/dist-packages (from requests->kaggle) (3.7)\n"
          ]
        }
      ],
      "source": [
        "!pip install kaggle\n"
      ]
    },
    {
      "cell_type": "code",
      "source": [
        "# upload kaggle.json api key from kaggle by going to settings > generate api key to /root/.kaggle folder by going up one level in the file directory and find it\n",
        "# if the .kaggle folder is not in root then make it\n",
        "!chmod 600 /root/.kaggle/kaggle.json"
      ],
      "metadata": {
        "id": "H3lSA23V5lzc"
      },
      "execution_count": 2,
      "outputs": []
    },
    {
      "cell_type": "code",
      "source": [
        "\n",
        "import numpy as np\n",
        "import pandas as pd\n",
        "import csv\n",
        "import os\n",
        "\n",
        "\n",
        "# accuracy score list to keep track of each submissions score on kaggle to be used for the formula on slide 15\n",
        "accuracy = []\n",
        "# corresponding filename for accuracy scores\n",
        "files = []\n",
        "# holds the prediction vectors from each submission\n",
        "S = []\n",
        "STx = []\n",
        "ratings = []\n",
        "num_prediction_vectors = 0\n",
        "\n",
        "# make a few folder under home directory named ensemble_submissions and upload the corresponding files with accuracy names in the form kaggle_output_836.csv\n",
        "directory = os.fsencode(\"/home/ensemble_submissions\")\n",
        "\n",
        "set_ratings = 0\n",
        "\n",
        "for file in os.listdir(directory):\n",
        "    filename = os.fsdecode(file)\n",
        "    if filename[-4:] == \".csv\":\n",
        "      num_prediction_vectors += 1\n",
        "      files.append(filename)\n",
        "      accuracy_score = int(filename[-7:][:3])/1000\n",
        "      accuracy.append(accuracy_score)\n",
        "      df = pd.read_csv(\"/home/ensemble_submissions/\" +filename)\n",
        "      S.append(np.array(df[\"Predictor\"]))\n",
        "      N = len(df[\"Predictor\"]) # should be 120000\n",
        "      Pi = accuracy_score\n",
        "      stx = 2*Pi-1\n",
        "      STx.append(stx)\n",
        "      if set_ratings == 0: # only do once\n",
        "        ratings = df\n",
        "        set_ratings +=1\n",
        "\n",
        "for i in range(len(S)):\n",
        "    for j in range(len(S[0])):\n",
        "        if S[i][j] == 0:\n",
        "            S[i][j] = -1\n",
        "\n",
        "S = np.array(S)\n",
        "STx = np.array(STx)\n",
        "\n",
        "esh = np.matmul(S, np.transpose(S))\n",
        "iesh = np.linalg.inv(esh)\n",
        "sesh = np.matmul(np.transpose(S), iesh)\n",
        "Sensemble = np.matmul(sesh, STx)\n",
        "\n",
        "\n",
        "for i in range(len(Sensemble)):\n",
        "    if (i+1) % 6 == 0: # 0-5 hold ratings for first user, do matrix calculations per user to make memory load smaller then add predictios to Sensemble\n",
        "        S_sub_ensemble = Sensemble[i-5:i+1]\n",
        "        S_sub_ensemble_sort_max = list(reversed(sorted(S_sub_ensemble)))[0:3]\n",
        "        index = 0\n",
        "        for j in range(i-5, i):\n",
        "            if S_sub_ensemble[index] in S_sub_ensemble_sort_max:\n",
        "                ratings.at[j, \"Predictor\"] = 1\n",
        "            else:\n",
        "                ratings.at[j, \"Predictor\"] = 0\n",
        "            index += 1\n",
        "\n",
        "\n",
        "ratings.to_csv(\"kaggle_submission_ensemble.csv\", index=False)\n",
        "\n",
        "\n",
        "\n",
        "!kaggle competitions submit -c aai627-spring2024 -f kaggle_submission_ensemble.csv -m \"Ensemble Method num_prediction_vectors = $num_prediction_vectors\"\n",
        "!kaggle competitions submissions -c aai627-spring2024\n",
        "\n",
        "\n"
      ],
      "metadata": {
        "colab": {
          "base_uri": "https://localhost:8080/"
        },
        "id": "mJXrN4Pj5d_f",
        "outputId": "ea2ecafa-3559-465c-cb29-8af127b5afc8"
      },
      "execution_count": 4,
      "outputs": [
        {
          "output_type": "stream",
          "name": "stdout",
          "text": [
            "Warning: Looks like you're using an outdated API Version, please consider updating (server 1.6.12 / client 1.5.16)\n",
            "100% 1.79M/1.79M [00:00<00:00, 3.89MB/s]\n",
            "Successfully submitted to Music RecommenderWarning: Looks like you're using an outdated API Version, please consider updating (server 1.6.12 / client 1.5.16)\n",
            "fileName                        date                 description                                                                                                                                                           status    publicScore  privateScore  \n",
            "------------------------------  -------------------  --------------------------------------------------------------------------------------------------------------------------------------------------------------------  --------  -----------  ------------  \n",
            "kaggle_submission_ensemble.csv  2024-04-22 22:32:39  Ensemble Method num_prediction_vectors = 8                                                                                                                            pending                              \n",
            "kaggle_submission_ensemble.csv  2024-04-22 21:59:09  Ensemble Method with 8 prediction vectors                                                                                                                             complete  0.856                      \n",
            "myprediction1_kaggle_mlp.csv    2024-04-17 20:24:20  MultiLayerPerceptronClassifier Predictions maxIter = 100 first_hidden_layer_neurons = 128 second_hidden_layer_neurons = 64 output_layer_neurons = 10                  complete  0.856                      \n",
            "myprediction1_kaggle_mlp.csv    2024-04-17 20:22:22  MultiLayerPerceptronClassifier Predictions maxIter = 100 first_hidden_layer_neurons = 1024 second_hidden_layer_neurons = 32 output_layer_neurons = 10                 complete  0.854                      \n",
            "myprediction1_kaggle_mlp.csv    2024-04-17 20:18:56  MultiLayerPerceptronClassifier Predictions maxIter = 100 first_hidden_layer_neurons = 256 second_hidden_layer_neurons = 32 output_layer_neurons = 10                  complete  0.856                      \n",
            "myprediction1_kaggle_mlp.csv    2024-04-17 20:17:05  MultiLayerPerceptronClassifier Predictions maxIter = 100 first_hidden_layer_neurons = 128 second_hidden_layer_neurons = 16 output_layer_neurons = 10                  complete  0.854                      \n",
            "myprediction1_kaggle_mlp.csv    2024-04-17 20:14:34  MultiLayerPerceptronClassifier Predictions maxIter = 100 first_hidden_layer_neurons = 128 second_hidden_layer_neurons = 100 output_layer_neurons = 10                 complete  0.853                      \n",
            "myprediction1_kaggle_mlp.csv    2024-04-17 20:13:00  MultiLayerPerceptronClassifier Predictions maxIter = 1000 first_hidden_layer_neurons = 16 second_hidden_layer_neurons = 16 output_layer_neurons = 10                  complete  0.854                      \n",
            "myprediction1_kaggle_mlp.csv    2024-04-17 20:11:06  MultiLayerPerceptronClassifier Predictions maxIter = 100 first_hidden_layer_neurons = 16 second_hidden_layer_neurons = 16 output_layer_neurons = 10                   complete  0.855                      \n",
            "myprediction1_kaggle_mlp.csv    2024-04-17 20:09:55  MultiLayerPerceptronClassifier Predictions maxIter = 10 first_hidden_layer_neurons = 16 second_hidden_layer_neurons = 16 output_layer_neurons = 10                    complete  0.779                      \n",
            "myprediction1_kaggle_mlp.csv    2024-04-17 20:07:41  MultiLayerPerceptronClassifier Predictions maxIter = 100 first_hidden_layer_neurons = 32 second_hidden_layer_neurons = 16 output_layer_neurons = 10                   complete  0.855                      \n",
            "myprediction1_kaggle_mlp.csv    2024-04-17 20:05:55  MultiLayerPerceptronClassifier Predictions maxIter = 100 first_hidden_layer_neurons = 128 second_hidden_layer_neurons = 64 output_layer_neurons = 10                  complete  0.853                      \n",
            "myprediction1_kaggle_mlp.csv    2024-04-17 20:04:03  MultiLayerPerceptronClassifier Predictions maxIter = 100 first_hidden_layer_neurons = 128 second_hidden_layer_neurons = 64 output_layer_neurons = 20                  complete  0.854                      \n",
            "myprediction1_kaggle_mlp.csv    2024-04-17 20:01:00  MultiLayerPerceptronClassifier Predictions maxIter = 100 first_hidden_layer_neurons = 128 second_hidden_layer_neurons = 64 output_layer_neurons = 2                   complete  0.854                      \n",
            "myprediction1_kaggle_mlp.csv    2024-04-17 19:58:58  MultiLayerPerceptronClassifier Predictions maxIter = 100 first_hidden_layer_neurons = 128 second_hidden_layer_neurons = 64 output_layer_neurons = 10                  complete  0.856                      \n",
            "myprediction1_kaggle_mlp.csv    2024-04-17 19:52:17  MultiLayerPerceptronClassifier Predictions maxIter = 500 first_hidden_layer_neurons = 128 second_hidden_layer_neurons = 64 output_layer_neurons = 10                  complete  0.855                      \n",
            "myprediction1_kaggle_mlp.csv    2024-04-17 19:47:52  MultiLayerPerceptronClassifier Predictions maxIter = 100 first_hidden_layer_neurons = 64 second_hidden_layer_neurons = 32 output_layer_neurons = 10                   complete  0.854                      \n",
            "myprediction1_kaggle_rf.csv     2024-04-14 00:56:48  Random Forest Classifier Predictions numTrees = 50, maxDepth = 1                                                                                                      complete  0.781                      \n",
            "myprediction1_kaggle_rf.csv     2024-04-14 00:56:01  Random Forest Classifier Predictions numTrees = 50, maxDepth = 10                                                                                                     complete  0.855                      \n",
            "myprediction1_kaggle_rf.csv     2024-04-14 00:54:49  Random Forest Classifier Predictions numTrees = 50, maxDepth = 2                                                                                                      complete  0.857                      \n",
            "myprediction1_kaggle_rf.csv     2024-04-14 00:52:37  Random Forest Classifier Predictions numTrees = 100                                                                                                                   complete  0.857                      \n",
            "myprediction1_kaggle_rf.csv     2024-04-14 00:51:31  Random Forest Classifier Predictions numTrees = 50                                                                                                                    complete  0.857                      \n",
            "myprediction1_kaggle_rf.csv     2024-04-14 00:50:44  Random Forest Classifier Predictions numTrees = 1                                                                                                                     complete  0.852                      \n",
            "myprediction1_kaggle_lr.csv     2024-04-14 00:44:47  Logistic Regression Predictions maxIter = 10, regParam = 0.0, aggregationDepth = 5, standardization = True, elasticNetParam = 1, family = auto, fitIntercept = False  complete  0.853                      \n",
            "myprediction1_kaggle_lr.csv     2024-04-14 00:41:33  Logistic Regression Predictions maxIter = 10, regParam = 0.0, aggregationDepth = 5, standardization = True, elasticNetParam = 1, family = binomial                    complete  0.855                      \n",
            "myprediction1_kaggle_lr.csv     2024-04-14 00:39:03  Logistic Regression Predictions maxIter = 10, regParam = 0.0, aggregationDepth = 5, standardization = True, elasticNetParam = 1                                       complete  0.855                      \n",
            "myprediction1_kaggle_lr.csv     2024-04-14 00:37:56  Logistic Regression Predictions maxIter = 10, regParam = 0.0, aggregationDepth = 5, standardization = True, elasticNetParam = 0.5                                     complete  0.855                      \n",
            "myprediction1_kaggle_lr.csv     2024-04-14 00:35:43  Logistic Regression Predictions maxIter = 1000, regParam = 0.0, aggregationDepth = 5, standardization = True                                                          complete  0.855                      \n",
            "myprediction1_kaggle_lr.csv     2024-04-14 00:34:50  Logistic Regression Predictions maxIter = 100, regParam = 0.0, aggregationDepth = 5, standardization = True                                                           complete  0.855                      \n",
            "myprediction1_kaggle_lr.csv     2024-04-14 00:33:02  Logistic Regression Predictions maxIter = 10, regParam = 0.0, aggregationDepth = 5, standardization = True                                                            complete  0.855                      \n",
            "myprediction1_kaggle_lr.csv     2024-04-14 00:31:02  Logistic Regression Predictions maxIter = 10, regParam = 0.0, aggregationDepth = 10                                                                                   complete  0.855                      \n",
            "myprediction1_kaggle_lr.csv     2024-04-14 00:28:01  Logistic Regression Predictions maxIter = 10, regParam = 0.0, aggregationDepth = 5                                                                                    complete  0.855                      \n",
            "myprediction1_kaggle_lr.csv     2024-04-12 15:47:46  Logistic Regression Predictions maxIter = 10, regParam = 0.1                                                                                                          complete  0.852                      \n",
            "myprediction1_kaggle_lr.csv     2024-04-12 15:46:57  Logistic Regression Predictions maxIter = 10, regParam = 0.05                                                                                                         complete  0.853                      \n",
            "myprediction1_kaggle_dt.csv     2024-04-12 15:44:20  Decision Tree Classifier Predictions maxDepth = 2 impurity = gini maxBins = 32, minInstancesPerNode = 1, minInfoGain = 0.01                                           complete  0.857                      \n",
            "myprediction1_kaggle_dt.csv     2024-04-12 15:43:17  Decision Tree Classifier Predictions maxDepth = 2 impurity = gini maxBins = 32, minInstancesPerNode = 1, minInfoGain = 0.05                                           complete  0.835                      \n",
            "myprediction1_kaggle_dt.csv     2024-04-12 15:41:29  Decision Tree Classifier Predictions maxDepth = 2 impurity = gini maxBins = 32, minInstancesPerNode = 1, minInfoGain = 0.5                                            complete  0.5                        \n",
            "myprediction1_kaggle_dt.csv     2024-04-12 15:39:36  Decision Tree Classifier Predictions maxDepth = 2 impurity = gini maxBins = 32, minInstancesPerNode = 9                                                               complete  0.857                      \n",
            "myprediction1_kaggle_dt.csv     2024-04-12 15:38:42  Decision Tree Classifier Predictions maxDepth = 2 impurity = gini maxBins = 32, minInstancesPerNode = 7                                                               complete  0.857                      \n",
            "myprediction1_kaggle_dt.csv     2024-04-12 15:37:31  Decision Tree Classifier Predictions maxDepth = 2 impurity = gini maxBins = 32, minInstancesPerNode = 5                                                               complete  0.857                      \n",
            "myprediction1_kaggle_dt.csv     2024-04-12 15:36:48  Decision Tree Classifier Predictions maxDepth = 2 impurity = gini maxBins = 32, minInstancesPerNode = 3                                                               complete  0.857                      \n",
            "myprediction1_kaggle_dt.csv     2024-04-12 15:35:53  Decision Tree Classifier Predictions maxDepth = 2 impurity = gini maxBins = 32, minInstancesPerNode = 1                                                               complete  0.857                      \n",
            "myprediction1_kaggle_dt.csv     2024-04-12 15:31:50  Decision Tree Classifier Predictions maxDepth = 1 impurity = gini maxBins = 32                                                                                        complete  0.835                      \n",
            "myprediction1_kaggle_dt.csv     2024-04-12 15:30:39  Decision Tree Classifier Predictions maxDepth = 2 impurity = gini maxBins = 2                                                                                         complete  0.857                      \n",
            "myprediction1_kaggle_dt.csv     2024-04-12 15:29:06  Decision Tree Classifier Predictions maxDepth = 2 impurity = gini maxBins = 16                                                                                        complete  0.857                      \n",
            "myprediction1_kaggle_dt.csv     2024-04-12 15:28:18  Decision Tree Classifier Predictions maxDepth = 2 impurity = gini maxBins = 64                                                                                        complete  0.857                      \n",
            "myprediction1_kaggle_dt.csv     2024-04-12 15:24:41  Decision Tree Classifier Predictions maxDepth = 2 impurity = entropy                                                                                                  complete  0.857                      \n",
            "myprediction1_kaggle_gbt.csv    2024-04-10 22:00:27  Gradient Boosted Tree Classifier Predictions maxIter = 50                                                                                                             complete  0.853                      \n",
            "myprediction1_kaggle_gbt.csv    2024-04-10 21:56:16  Gradient Boosted Tree Classifier Predictions maxIter = $iter                                                                                                          complete  0.856                      \n",
            "myprediction1_kaggle_rf.csv     2024-04-10 21:55:51  Random Forest Classifier Predictions                                                                                                                                  complete  0.856                      \n"
          ]
        }
      ]
    }
  ]
}